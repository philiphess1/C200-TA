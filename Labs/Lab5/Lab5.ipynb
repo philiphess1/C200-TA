{
 "cells": [
  {
   "cell_type": "code",
   "execution_count": 1,
   "metadata": {},
   "outputs": [],
   "source": [
    "def factorial(n):\n",
    "    if n == 0:\n",
    "        return 1 # return n\n",
    "    else:\n",
    "        return n * factorial(n-1) # This line can be done on another line"
   ]
  },
  {
   "cell_type": "code",
   "execution_count": 2,
   "metadata": {},
   "outputs": [
    {
     "data": {
      "text/plain": [
       "120"
      ]
     },
     "execution_count": 2,
     "metadata": {},
     "output_type": "execute_result"
    }
   ],
   "source": [
    "factorial(5) # 120"
   ]
  },
  {
   "cell_type": "code",
   "execution_count": 30,
   "metadata": {},
   "outputs": [],
   "source": [
    "def only_ints(xlist):\n",
    "    if xlist == []:\n",
    "        return []\n",
    "    elif type(xlist[0]) != int:\n",
    "        return [] + only_ints(xlist[1:])\n",
    "    else:\n",
    "        return [xlist[0]] + only_ints(xlist[1:])\n",
    "    \n",
    "\n",
    "\n",
    "    "
   ]
  },
  {
   "cell_type": "code",
   "execution_count": 32,
   "metadata": {},
   "outputs": [
    {
     "name": "stdout",
     "output_type": "stream",
     "text": [
      "[1, 2, 7, 8]\n"
     ]
    }
   ],
   "source": [
    "x_list  = [1, \"word\", 9.3, 2, 7, 8]\n",
    "\n",
    "print(only_ints(x_list)) # [1, 2, 3, 4, 5, 6, 7, 8, 9, 10]"
   ]
  },
  {
   "cell_type": "code",
   "execution_count": 12,
   "metadata": {},
   "outputs": [],
   "source": [
    "def tail_factorial(n, accumulator=1):\n",
    "    if n == 0:\n",
    "        return accumulator\n",
    "    else:\n",
    "        return tail_factorial(n-1, n*accumulator)"
   ]
  },
  {
   "cell_type": "code",
   "execution_count": 13,
   "metadata": {},
   "outputs": [
    {
     "data": {
      "text/plain": [
       "120"
      ]
     },
     "execution_count": 13,
     "metadata": {},
     "output_type": "execute_result"
    }
   ],
   "source": [
    "tail_factorial(5) # 120"
   ]
  },
  {
   "cell_type": "code",
   "execution_count": 26,
   "metadata": {},
   "outputs": [],
   "source": [
    "def tail_only_ints(xlist, a=[]):\n",
    "    if xlist == []:\n",
    "        return a  # return accumulator\n",
    "    elif type(xlist[0]) != int:\n",
    "        return tail_only_ints(xlist[1:],a=a)  #add accumulator during function call\n",
    "    else:\n",
    "        return tail_only_ints(xlist[1:], a=[xlist[0]] + a)  # add accumulator during function call\n"
   ]
  },
  {
   "cell_type": "code",
   "execution_count": 27,
   "metadata": {},
   "outputs": [
    {
     "data": {
      "text/plain": [
       "[10, 9, 8, 7, 6, 5, 4, 3, 2, 1]"
      ]
     },
     "execution_count": 27,
     "metadata": {},
     "output_type": "execute_result"
    }
   ],
   "source": [
    "alist = [1, 2, 3, 4, 5, 6, 7, 8, 9, 10, 'a', 'b', 'c', 'd', 'e']\n",
    "\n",
    "tail_only_ints(alist) # [10, 9, 8, 7, 6, 5, 4, 3, 2, 1]"
   ]
  },
  {
   "cell_type": "code",
   "execution_count": 15,
   "metadata": {},
   "outputs": [],
   "source": [
    "d = {}\n",
    "def memo_factorial(n):\n",
    "    if n not in d:\n",
    "        print(f\"This is the {n} iteration\")\n",
    "        if n == 1:\n",
    "            d[n] = 1\n",
    "        else:\n",
    "            d[n] = n * memo_factorial(n-1)\n",
    "    # elif n-1 in d:\n",
    "    #     print(f\"We found {n} in our dict\")\n",
    "    #     return n * d[n-1]\n",
    "    return d[n]"
   ]
  },
  {
   "cell_type": "code",
   "execution_count": 18,
   "metadata": {},
   "outputs": [
    {
     "name": "stdout",
     "output_type": "stream",
     "text": [
      "This is the 11 iteration\n",
      "This is the 10 iteration\n"
     ]
    },
    {
     "data": {
      "text/plain": [
       "39916800"
      ]
     },
     "execution_count": 18,
     "metadata": {},
     "output_type": "execute_result"
    }
   ],
   "source": [
    "memo_factorial(11) # 120"
   ]
  },
  {
   "cell_type": "code",
   "execution_count": 36,
   "metadata": {},
   "outputs": [],
   "source": [
    "d_only = {}\n",
    "\n",
    "def memo_only_ints(xlist):\n",
    "    # Lists are mutable, cannot be used as dictionary keys\n",
    "    # So we have to convert it to a tuple first\n",
    "    xtup = tuple(xlist)\n",
    "\n",
    "    if xtup not in d_only.keys():\n",
    "        if xlist == []:\n",
    "            print(\"This is an empty list\")\n",
    "            d_only[xtup] = [] # return []\n",
    "        elif type(xlist[0]) != int:\n",
    "            d_only[xtup] = memo_only_ints(xlist[1:]) # return only_ints(xlist[1:])\n",
    "        else:\n",
    "            d_only[xtup] = [xlist[0]] + memo_only_ints(xlist[1:]) # return [xlist[0]] + only_ints(xlist[1:])\n",
    "\n",
    "    return d_only[xtup]"
   ]
  },
  {
   "cell_type": "code",
   "execution_count": 38,
   "metadata": {},
   "outputs": [
    {
     "data": {
      "text/plain": [
       "[1, 2]"
      ]
     },
     "execution_count": 38,
     "metadata": {},
     "output_type": "execute_result"
    }
   ],
   "source": [
    "memo_only_ints([1,'1',2,'2'])\n",
    "# memo_only_ints([])"
   ]
  },
  {
   "cell_type": "code",
   "execution_count": 33,
   "metadata": {},
   "outputs": [
    {
     "data": {
      "text/plain": [
       "[1, 2]"
      ]
     },
     "execution_count": 33,
     "metadata": {},
     "output_type": "execute_result"
    }
   ],
   "source": [
    "# d_only[(1,'1',2,'2')]"
   ]
  },
  {
   "cell_type": "code",
   "execution_count": null,
   "metadata": {},
   "outputs": [],
   "source": []
  }
 ],
 "metadata": {
  "kernelspec": {
   "display_name": "base",
   "language": "python",
   "name": "python3"
  },
  "language_info": {
   "codemirror_mode": {
    "name": "ipython",
    "version": 3
   },
   "file_extension": ".py",
   "mimetype": "text/x-python",
   "name": "python",
   "nbconvert_exporter": "python",
   "pygments_lexer": "ipython3",
   "version": "3.12.2"
  }
 },
 "nbformat": 4,
 "nbformat_minor": 2
}
