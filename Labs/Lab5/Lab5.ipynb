{
 "cells": [
  {
   "cell_type": "code",
   "execution_count": 1,
   "metadata": {},
   "outputs": [],
   "source": [
    "def factorial(n):\n",
    "    if n == 0:\n",
    "        return 1 # return n\n",
    "    else:\n",
    "        return n * factorial(n-1) # This line can be done on another line"
   ]
  },
  {
   "cell_type": "code",
   "execution_count": 2,
   "metadata": {},
   "outputs": [
    {
     "data": {
      "text/plain": [
       "120"
      ]
     },
     "execution_count": 2,
     "metadata": {},
     "output_type": "execute_result"
    }
   ],
   "source": [
    "factorial(5) # 120"
   ]
  },
  {
   "cell_type": "code",
   "execution_count": 10,
   "metadata": {},
   "outputs": [],
   "source": [
    "def only_ints(xlist):\n",
    "    if xlist == []:\n",
    "        return []\n",
    "    elif type(xlist[0]) != int:\n",
    "        return [] + only_ints(xlist[1:])\n",
    "    else:\n",
    "        return [xlist[0]] + only_ints(xlist[1:])\n",
    "    "
   ]
  },
  {
   "cell_type": "code",
   "execution_count": 11,
   "metadata": {},
   "outputs": [
    {
     "data": {
      "text/plain": [
       "[1, 2, 3, 4, 5, 6, 7, 8, 9, 10]"
      ]
     },
     "execution_count": 11,
     "metadata": {},
     "output_type": "execute_result"
    }
   ],
   "source": [
    "x_list  = [1, 2, 3, 4, 5, 6, 7, 8, 9, 10, 'a', 'b', 'c', 'd', 'e']\n",
    "\n",
    "only_ints(x_list) # [1, 2, 3, 4, 5, 6, 7, 8, 9, 10]"
   ]
  },
  {
   "cell_type": "code",
   "execution_count": 12,
   "metadata": {},
   "outputs": [],
   "source": [
    "def tail_factorial(n, accumulator=1):\n",
    "    if n == 0:\n",
    "        return accumulator\n",
    "    else:\n",
    "        return tail_factorial(n-1, n*accumulator)"
   ]
  },
  {
   "cell_type": "code",
   "execution_count": 13,
   "metadata": {},
   "outputs": [
    {
     "data": {
      "text/plain": [
       "120"
      ]
     },
     "execution_count": 13,
     "metadata": {},
     "output_type": "execute_result"
    }
   ],
   "source": [
    "tail_factorial(5) # 120"
   ]
  },
  {
   "cell_type": "code",
   "execution_count": 24,
   "metadata": {},
   "outputs": [],
   "source": [
    "def tail_only_ints(xlist, a=[]):\n",
    "    if xlist == []:\n",
    "        return a  # return accumulator\n",
    "    elif type(xlist[0]) != int:\n",
    "        return tail_only_ints(xlist[1:],a=a)  #add accumulator during function call\n",
    "    else:\n",
    "        return tail_only_ints(xlist[1:], a=a + [xlist[0]])  # add accumulator during function call\n"
   ]
  },
  {
   "cell_type": "code",
   "execution_count": 25,
   "metadata": {},
   "outputs": [
    {
     "data": {
      "text/plain": [
       "[1, 2, 3, 4, 5, 6, 7, 8, 9, 10]"
      ]
     },
     "execution_count": 25,
     "metadata": {},
     "output_type": "execute_result"
    }
   ],
   "source": [
    "alist = [1, 2, 3, 4, 5, 6, 7, 8, 9, 10, 'a', 'b', 'c', 'd', 'e']\n",
    "\n",
    "tail_only_ints(alist) # [10, 9, 8, 7, 6, 5, 4, 3, 2, 1]"
   ]
  },
  {
   "cell_type": "code",
   "execution_count": 39,
   "metadata": {},
   "outputs": [],
   "source": [
    "d = {}\n",
    "def memo_factorial(n):\n",
    "    if n not in d:\n",
    "        if n == 1:\n",
    "            d[n] = 1\n",
    "        else:\n",
    "            d[n] = n * memo_factorial(n-1)\n",
    "    print(d)\n",
    "    return d[n]"
   ]
  },
  {
   "cell_type": "code",
   "execution_count": 40,
   "metadata": {},
   "outputs": [
    {
     "name": "stdout",
     "output_type": "stream",
     "text": [
      "{1: 1}\n",
      "{1: 1, 2: 2}\n",
      "{1: 1, 2: 2, 3: 6}\n",
      "{1: 1, 2: 2, 3: 6, 4: 24}\n",
      "{1: 1, 2: 2, 3: 6, 4: 24, 5: 120}\n"
     ]
    },
    {
     "data": {
      "text/plain": [
       "120"
      ]
     },
     "execution_count": 40,
     "metadata": {},
     "output_type": "execute_result"
    }
   ],
   "source": [
    "memo_factorial(5) # 120"
   ]
  },
  {
   "cell_type": "code",
   "execution_count": 41,
   "metadata": {},
   "outputs": [],
   "source": [
    "d_only = {}\n",
    "\n",
    "def memo_only_ints(xlist):\n",
    "    # Lists are mutable, cannot be used as dictionary keys\n",
    "    # So we have to convert it to a tuple first\n",
    "    xtup = tuple(xlist)\n",
    "\n",
    "    if xtup not in d_only.keys():\n",
    "        if xlist == []:\n",
    "            d_only[xtup] = [] # return []\n",
    "        elif type(xlist[0]) != int:\n",
    "            d_only[xtup] = memo_only_ints(xlist[1:]) # return only_ints(xlist[1:])\n",
    "        else:\n",
    "            d_only[xtup] = [xlist[0]] + memo_only_ints(xlist[1:]) # return [xlist[0]] + only_ints(xlist[1:])\n",
    "\n",
    "    return d_only[xtup]"
   ]
  },
  {
   "cell_type": "code",
   "execution_count": 42,
   "metadata": {},
   "outputs": [
    {
     "data": {
      "text/plain": [
       "[1, 2]"
      ]
     },
     "execution_count": 42,
     "metadata": {},
     "output_type": "execute_result"
    }
   ],
   "source": [
    "memo_only_ints([1,'1',2,'2'])"
   ]
  }
 ],
 "metadata": {
  "kernelspec": {
   "display_name": "base",
   "language": "python",
   "name": "python3"
  },
  "language_info": {
   "codemirror_mode": {
    "name": "ipython",
    "version": 3
   },
   "file_extension": ".py",
   "mimetype": "text/x-python",
   "name": "python",
   "nbconvert_exporter": "python",
   "pygments_lexer": "ipython3",
   "version": "3.12.2"
  }
 },
 "nbformat": 4,
 "nbformat_minor": 2
}
