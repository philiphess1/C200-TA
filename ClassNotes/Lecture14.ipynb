{
 "cells": [
  {
   "cell_type": "code",
   "execution_count": 7,
   "metadata": {},
   "outputs": [
    {
     "name": "stdout",
     "output_type": "stream",
     "text": [
      "A B C D(A, B, C)\n",
      "0 0 0      0\n",
      "0 0 1      1\n",
      "0 1 0      1\n",
      "0 1 1      1\n",
      "1 0 0      0\n",
      "1 0 1      1\n",
      "1 1 0      0\n",
      "1 1 1      1\n"
     ]
    }
   ],
   "source": [
    "def D(A,B,C):\n",
    "    return (not A and B) or C\n",
    "\n",
    "input = [0,1]\n",
    "print(\"A B C D(A, B, C)\")\n",
    "\n",
    "for i in input:\n",
    "    for j in input:\n",
    "        for k in input:\n",
    "            print(f\"{i} {j} {k}      {int((D(i,j,k)))}\")"
   ]
  },
  {
   "cell_type": "code",
   "execution_count": 8,
   "metadata": {},
   "outputs": [
    {
     "name": "stdout",
     "output_type": "stream",
     "text": [
      "0 0 0 0\n",
      "0 0 1 1\n",
      "0 1 0 1\n",
      "0 1 1 1\n",
      "1 0 0 0\n",
      "1 0 1 1\n",
      "1 1 0 0\n",
      "1 1 1 1\n"
     ]
    }
   ],
   "source": [
    "def D(A,B,C):\n",
    "    return (C) or ((B) and (not (A)))\n",
    "\n",
    "for A,B,C,D in [(i,j,k,int(D(i,j,k))) for i in [0,1] for j in [0,1] for k in [0,1]]:\n",
    "    print(A,B,C,D)"
   ]
  }
 ],
 "metadata": {
  "kernelspec": {
   "display_name": "base",
   "language": "python",
   "name": "python3"
  },
  "language_info": {
   "codemirror_mode": {
    "name": "ipython",
    "version": 3
   },
   "file_extension": ".py",
   "mimetype": "text/x-python",
   "name": "python",
   "nbconvert_exporter": "python",
   "pygments_lexer": "ipython3",
   "version": "3.12.2"
  }
 },
 "nbformat": 4,
 "nbformat_minor": 2
}
